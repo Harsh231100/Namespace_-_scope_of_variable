{
 "cells": [
  {
   "cell_type": "markdown",
   "id": "7accbf3a",
   "metadata": {},
   "source": [
    "# Namespace"
   ]
  },
  {
   "cell_type": "markdown",
   "id": "db8a6afe",
   "metadata": {},
   "source": [
    "* A namespace is a collection of currently defined symbolic names along with information about the object that each name references. You can think of a namespace as a dictionary in which the keys are the object names and the values are the objects themselves.\n",
    "\n",
    "* A namespace is a system that has a unique name for each and every object in Python.An object might be a variable or a method.\n",
    "\n",
    "* Python itself maintains a namespace in the form of a Python dictionary.\n",
    "\n",
    "* The Python interpreter understands what exact method or variable one is trying to point to in the code, depending upon the namespace. So, the division of the word itself gives a little more information."
   ]
  },
  {
   "cell_type": "markdown",
   "id": "6eaa9a8b",
   "metadata": {},
   "source": [
    "* Types of Namespaces:\n",
    "    * Built-in \n",
    "    * Global\n",
    "    * Enclosing\n",
    "    * Local "
   ]
  },
  {
   "cell_type": "markdown",
   "id": "2304e985",
   "metadata": {},
   "source": [
    "![](https://static.wixstatic.com/media/0f65e1_e99ca5816a234edfbe2e4f4a27e1bee8~mv2.png/v1/fit/w_936%2Ch_634%2Cal_c%2Cq_80,enc_auto/file.jpg)"
   ]
  },
  {
   "cell_type": "markdown",
   "id": "c3ee584a",
   "metadata": {},
   "source": [
    "## Python Variable Scope"
   ]
  },
  {
   "cell_type": "markdown",
   "id": "434a070b",
   "metadata": {},
   "source": [
    "* Although there are various unique namespaces defined, we may not be able to access all of them from every part of the program. The concept of scope comes into play.\n",
    "\n",
    "* A scope is the portion of a program from where a namespace can be accessed directly without any prefix.\n",
    "\n",
    "* At any given moment, there are at least three nested scopes.\n",
    "    * Scope of the current function which has local names\n",
    "    * Scope of the module which has global names\n",
    "    * Outermost scope which has built-in names\n",
    "    \n",
    "* When a reference is made inside a function, the name is searched in the local namespace, then in the global namespace and finally in the built-in namespace.\n",
    "\n",
    "* If there is a function inside another function, a new scope is nested inside the local scope"
   ]
  },
  {
   "cell_type": "markdown",
   "id": "05ad8725",
   "metadata": {},
   "source": [
    "![](https://wellsr.com/python/assets/images/2018-09-07-scopes-diagram.png)"
   ]
  },
  {
   "cell_type": "markdown",
   "id": "d3cc4c4d",
   "metadata": {},
   "source": [
    "### Types of variable scope:"
   ]
  },
  {
   "cell_type": "markdown",
   "id": "c420996c",
   "metadata": {},
   "source": [
    "### Local Scope\n"
   ]
  },
  {
   "cell_type": "markdown",
   "id": "cc421591",
   "metadata": {},
   "source": [
    "\n",
    "* A variable created inside a function belongs to the local scope of that function, and can only be used inside that function."
   ]
  },
  {
   "cell_type": "code",
   "execution_count": 1,
   "id": "272dd7fe",
   "metadata": {},
   "outputs": [
    {
     "name": "stdout",
     "output_type": "stream",
     "text": [
      "300\n"
     ]
    }
   ],
   "source": [
    "def apple():\n",
    "  x = 300\n",
    "  print(x)\n",
    "\n",
    "apple()"
   ]
  },
  {
   "cell_type": "markdown",
   "id": "614c3919",
   "metadata": {},
   "source": [
    "### Global Scope"
   ]
  },
  {
   "cell_type": "markdown",
   "id": "3b89b02a",
   "metadata": {},
   "source": [
    "* A variable created in the main body of the Python code is a global variable and belongs to the global scope.\n",
    "\n",
    "* Global variables are available from within any scope, global and local."
   ]
  },
  {
   "cell_type": "code",
   "execution_count": 2,
   "id": "48feffba",
   "metadata": {},
   "outputs": [
    {
     "name": "stdout",
     "output_type": "stream",
     "text": [
      "11\n"
     ]
    }
   ],
   "source": [
    "a=11\n",
    "def progarm():\n",
    "    print(a)\n",
    "    \n",
    "progarm()"
   ]
  },
  {
   "cell_type": "code",
   "execution_count": 3,
   "id": "3d040cb3",
   "metadata": {},
   "outputs": [
    {
     "name": "stdout",
     "output_type": "stream",
     "text": [
      "Python is Programming Language\n"
     ]
    }
   ],
   "source": [
    "x = \"Programming Language\"\n",
    "\n",
    "def python():\n",
    "  print(\"Python is \" + x)\n",
    "\n",
    "python()"
   ]
  },
  {
   "cell_type": "markdown",
   "id": "c7e5e46b",
   "metadata": {},
   "source": [
    "### built-in variable"
   ]
  },
  {
   "cell_type": "markdown",
   "id": "247d25ef",
   "metadata": {},
   "source": [
    "\n",
    "* The built-in scope in Python refers to the variables and functions that are built into the language and are available from anywhere in your program.\n",
    "* These include keywords, constants, and built-in functions like print(), len(), type(), etc.\n",
    "* You do not need to import or declare them before using them. They have the widest scope and the lowest priority in the name resolution "
   ]
  },
  {
   "cell_type": "code",
   "execution_count": 4,
   "id": "9fbab230",
   "metadata": {},
   "outputs": [
    {
     "name": "stdout",
     "output_type": "stream",
     "text": [
      "my name is harsh\n"
     ]
    }
   ],
   "source": [
    "def intro():\n",
    "    a = 'my name is harsh'\n",
    "    print(a)\n",
    "    \n",
    "intro()"
   ]
  },
  {
   "cell_type": "markdown",
   "id": "43c99e5e",
   "metadata": {},
   "source": [
    "### Enclosing scope\n"
   ]
  },
  {
   "cell_type": "markdown",
   "id": "2094d7bc",
   "metadata": {},
   "source": [
    "\n",
    "* Enclosing (or nonlocal) scope is a special scope that only exists for nested functions. If the local scope is an inner or nested function, then the enclosing scope is the scope of the outer or enclosing function. This scope contains the names that you define in the enclosing function"
   ]
  },
  {
   "cell_type": "code",
   "execution_count": 6,
   "id": "af8e3837",
   "metadata": {},
   "outputs": [
    {
     "name": "stdout",
     "output_type": "stream",
     "text": [
      "mango\n"
     ]
    }
   ],
   "source": [
    "def fruit():\n",
    "    x = 'mango'\n",
    "    print(x)\n",
    "    def n():\n",
    "        y = 'banana'\n",
    "        print()\n",
    "fruit()"
   ]
  }
 ],
 "metadata": {
  "kernelspec": {
   "display_name": "Python 3 (ipykernel)",
   "language": "python",
   "name": "python3"
  },
  "language_info": {
   "codemirror_mode": {
    "name": "ipython",
    "version": 3
   },
   "file_extension": ".py",
   "mimetype": "text/x-python",
   "name": "python",
   "nbconvert_exporter": "python",
   "pygments_lexer": "ipython3",
   "version": "3.11.5"
  }
 },
 "nbformat": 4,
 "nbformat_minor": 5
}
